{
 "cells": [
  {
   "cell_type": "code",
   "execution_count": 1,
   "id": "954b834f",
   "metadata": {},
   "outputs": [
    {
     "name": "stdout",
     "output_type": "stream",
     "text": [
      "需求量的平均值: 7.508474576271187\n",
      "需求量的标准差: 7.866874338923102\n",
      "服务水平: 0.85\n",
      "安全库存: 8.153491235811789\n"
     ]
    }
   ],
   "source": [
    "import pandas as pd\n",
    "import numpy as np\n",
    "import scipy.stats as stats\n",
    "\n",
    "# 读取xlsx表格中的数据\n",
    "file_path = './updated_file.xlsx'  # 替换为你的文件路径\n",
    "df = pd.read_excel(file_path)\n",
    "\n",
    "# 选择时间和需求量数据\n",
    "time = df.iloc[:, 0]  # 第一列是时间\n",
    "demand = df.iloc[:, 2]  # 第三列是需求量\n",
    "\n",
    "# 计算需求量的平均值和标准差\n",
    "mean_demand = demand.mean()\n",
    "std_demand = demand.std()\n",
    "\n",
    "# 设定服务水平\n",
    "service_level = 0.85\n",
    "\n",
    "# 计算z值（正态分布的分位数）\n",
    "z_value = stats.norm.ppf(service_level)\n",
    "\n",
    "# 计算安全库存\n",
    "safety_stock = z_value * std_demand\n",
    "\n",
    "# 打印结果\n",
    "print(f\"需求量的平均值: {mean_demand}\")\n",
    "print(f\"需求量的标准差: {std_demand}\")\n",
    "print(f\"服务水平: {service_level}\")\n",
    "print(f\"安全库存: {safety_stock}\")\n",
    "\n",
    "# 如果需要将结果添加到原始数据框或保存到文件中\n",
    "df['安全库存'] = safety_stock\n",
    "df.to_excel('output_with_safety_stock.xlsx', index=False)\n"
   ]
  },
  {
   "cell_type": "code",
   "execution_count": null,
   "id": "97023e3c",
   "metadata": {},
   "outputs": [],
   "source": []
  }
 ],
 "metadata": {
  "kernelspec": {
   "display_name": "Python 3 (ipykernel)",
   "language": "python",
   "name": "python3"
  },
  "language_info": {
   "codemirror_mode": {
    "name": "ipython",
    "version": 3
   },
   "file_extension": ".py",
   "mimetype": "text/x-python",
   "name": "python",
   "nbconvert_exporter": "python",
   "pygments_lexer": "ipython3",
   "version": "3.11.7"
  }
 },
 "nbformat": 4,
 "nbformat_minor": 5
}
